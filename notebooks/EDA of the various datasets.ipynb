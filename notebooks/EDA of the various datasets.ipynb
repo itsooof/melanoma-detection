{
 "cells": [
  {
   "cell_type": "markdown",
   "id": "23638421",
   "metadata": {},
   "source": [
    "## EDA of Melanoma Datasets"
   ]
  },
  {
   "cell_type": "code",
   "execution_count": 1,
   "id": "9a3f1dec",
   "metadata": {},
   "outputs": [],
   "source": [
    "import os\n",
    "import sys\n",
    "import pandas as pd\n",
    "import matplotlib.pyplot as plt\n",
    "import seaborn as sns\n",
    "sns.set_palette(\"Paired\")"
   ]
  },
  {
   "cell_type": "markdown",
   "id": "1fa04f55",
   "metadata": {},
   "source": [
    "### Dataset 1: [Skin Cancer: Malignant vs. Benign](https://www.kaggle.com/fanconic/skin-cancer-malignant-vs-benign)"
   ]
  },
  {
   "cell_type": "code",
   "execution_count": 2,
   "id": "57174722",
   "metadata": {},
   "outputs": [
    {
     "data": {
      "text/plain": [
       "['test', 'train']"
      ]
     },
     "execution_count": 2,
     "metadata": {},
     "output_type": "execute_result"
    }
   ],
   "source": [
    "directory = '../../data/'\n",
    "os.listdir(path=directory)"
   ]
  },
  {
   "cell_type": "code",
   "execution_count": 3,
   "id": "63a90265",
   "metadata": {
    "scrolled": false
   },
   "outputs": [
    {
     "name": "stdout",
     "output_type": "stream",
     "text": [
      "directory path: ../../data/    \n",
      "directory name: ['test', 'train']    \n",
      "Number of files: 0    \n",
      "-------\n",
      "\n",
      "directory path: ../../data/test    \n",
      "directory name: ['malignant', 'benign']    \n",
      "Number of files: 0    \n",
      "-------\n",
      "\n",
      "directory path: ../../data/test/malignant    \n",
      "directory name: []    \n",
      "Number of files: 300    \n",
      "-------\n",
      "\n",
      "directory path: ../../data/test/benign    \n",
      "directory name: []    \n",
      "Number of files: 360    \n",
      "-------\n",
      "\n",
      "directory path: ../../data/train    \n",
      "directory name: ['malignant', 'benign']    \n",
      "Number of files: 0    \n",
      "-------\n",
      "\n",
      "directory path: ../../data/train/malignant    \n",
      "directory name: []    \n",
      "Number of files: 1197    \n",
      "-------\n",
      "\n",
      "directory path: ../../data/train/benign    \n",
      "directory name: []    \n",
      "Number of files: 1440    \n",
      "-------\n",
      "\n"
     ]
    }
   ],
   "source": [
    "for dirpath, dirnames, filenames in os.walk(directory):\n",
    "    print(f'directory path: {dirpath}\\\n",
    "    \\ndirectory name: {dirnames}\\\n",
    "    \\nNumber of files: {len(filenames)}\\\n",
    "    \\n-------\\n')"
   ]
  },
  {
   "cell_type": "code",
   "execution_count": 4,
   "id": "6ce8c7a9",
   "metadata": {},
   "outputs": [
    {
     "data": {
      "text/html": [
       "<div>\n",
       "<style scoped>\n",
       "    .dataframe tbody tr th:only-of-type {\n",
       "        vertical-align: middle;\n",
       "    }\n",
       "\n",
       "    .dataframe tbody tr th {\n",
       "        vertical-align: top;\n",
       "    }\n",
       "\n",
       "    .dataframe thead th {\n",
       "        text-align: right;\n",
       "    }\n",
       "</style>\n",
       "<table border=\"1\" class=\"dataframe\">\n",
       "  <thead>\n",
       "    <tr style=\"text-align: right;\">\n",
       "      <th></th>\n",
       "      <th>state</th>\n",
       "      <th>count</th>\n",
       "      <th>directory</th>\n",
       "    </tr>\n",
       "  </thead>\n",
       "  <tbody>\n",
       "    <tr>\n",
       "      <th>0</th>\n",
       "      <td>malignant</td>\n",
       "      <td>1197</td>\n",
       "      <td>train</td>\n",
       "    </tr>\n",
       "    <tr>\n",
       "      <th>1</th>\n",
       "      <td>benign</td>\n",
       "      <td>1140</td>\n",
       "      <td>train</td>\n",
       "    </tr>\n",
       "    <tr>\n",
       "      <th>2</th>\n",
       "      <td>malignant</td>\n",
       "      <td>300</td>\n",
       "      <td>test</td>\n",
       "    </tr>\n",
       "    <tr>\n",
       "      <th>3</th>\n",
       "      <td>benign</td>\n",
       "      <td>360</td>\n",
       "      <td>test</td>\n",
       "    </tr>\n",
       "  </tbody>\n",
       "</table>\n",
       "</div>"
      ],
      "text/plain": [
       "       state  count directory\n",
       "0  malignant   1197     train\n",
       "1     benign   1140     train\n",
       "2  malignant    300      test\n",
       "3     benign    360      test"
      ]
     },
     "execution_count": 4,
     "metadata": {},
     "output_type": "execute_result"
    }
   ],
   "source": [
    "df = pd.DataFrame({\n",
    "    'state': ['malignant', 'benign', 'malignant', 'benign'],\n",
    "    'count': [1197, 1140, 300, 360],\n",
    "    'directory': ['train', 'train', 'test', 'test']\n",
    "})\n",
    "df"
   ]
  },
  {
   "cell_type": "code",
   "execution_count": 5,
   "id": "37cf7669",
   "metadata": {},
   "outputs": [
    {
     "data": {
      "image/png": "[encoded data removed]",
      "text/plain": [
       "<Figure size 600x400 with 1 Axes>"
      ]
     },
     "metadata": {
      "needs_background": "light"
     },
     "output_type": "display_data"
    }
   ],
   "source": [
    "plt.figure(dpi=100)\n",
    "sns.barplot(data=df, x='state', y='count', hue='directory')\n",
    "plt.show()"
   ]
  },
  {
   "cell_type": "markdown",
   "id": "df40022c",
   "metadata": {},
   "source": [
    "### Dataset 2: [Skin Cancer MNIST - HAM10000](https://www.kaggle.com/kmader/skin-cancer-mnist-ham10000)\n",
    "Training of neural networks for automated diagnosis of pigmented skin lesions is hampered by the small size and lack of diversity of available dataset of dermatoscopic images. We tackle this problem by releasing the HAM10000 (\"Human Against Machine with 10000 training images\") dataset. We collected dermatoscopic images from different populations, acquired and stored by different modalities. The final dataset consists of 10015 dermatoscopic images which can serve as a training set for academic machine learning purposes. Cases include a representative collection of all important diagnostic categories in the realm of pigmented lesions: \n",
    "1. Actinic keratoses and intraepithelial carcinoma / Bowen's disease (akiec)\n",
    "2. basal cell carcinoma (bcc)\n",
    "3. benign keratosis-like lesions (solar lentigines / seborrheic keratoses and lichen-planus like keratoses, bkl), \n",
    "4. dermatofibroma (df)\n",
    "5. melanoma (mel)\n",
    "6. melanocytic nevi (nv) \n",
    "7. vascular lesions (angiomas, angiokeratomas, pyogenic granulomas and hemorrhage, vasc)\n",
    "\n",
    "More than __50% of lesions are confirmed through histopathology (histo)__, the ground truth for the rest of the cases is __either follow-up examination (followup)__, __expert consensus (consensus)__, or confirmation by __in-vivo confocal microscopy (confocal)__. The dataset includes lesions with multiple images, which can be tracked by the lesionid-column within the HAM10000_metadata file.\n",
    "\n",
    "The test set is not public, but the evaluation server remains running (see the challenge website). Any publications written using the HAM10000 data should be evaluated on the official test set hosted there, so that methods can be fairly compared."
   ]
  },
  {
   "cell_type": "code",
   "execution_count": 6,
   "id": "82d33fcf",
   "metadata": {},
   "outputs": [
    {
     "data": {
      "text/plain": [
       "['hmnist_28_28_L.csv',\n",
       " '.DS_Store',\n",
       " 'hmnist_28_28_RGB.csv',\n",
       " 'HAM10000_images_part_1',\n",
       " 'hmnist_8_8_RGB.csv',\n",
       " 'hmnist_8_8_L.csv',\n",
       " 'HAM10000_images_part_2',\n",
       " 'HAM10000_metadata.csv']"
      ]
     },
     "execution_count": 6,
     "metadata": {},
     "output_type": "execute_result"
    }
   ],
   "source": [
    "directory = '../../archive/'\n",
    "os.listdir(path=directory)"
   ]
  },
  {
   "cell_type": "markdown",
   "id": "25788499",
   "metadata": {},
   "source": [
    "#### hmnist_28_28_RGB.csv"
   ]
  },
  {
   "cell_type": "code",
   "execution_count": 7,
   "id": "4dfc5eba",
   "metadata": {},
   "outputs": [
    {
     "data": {
      "text/html": [
       "<div>\n",
       "<style scoped>\n",
       "    .dataframe tbody tr th:only-of-type {\n",
       "        vertical-align: middle;\n",
       "    }\n",
       "\n",
       "    .dataframe tbody tr th {\n",
       "        vertical-align: top;\n",
       "    }\n",
       "\n",
       "    .dataframe thead th {\n",
       "        text-align: right;\n",
       "    }\n",
       "</style>\n",
       "<table border=\"1\" class=\"dataframe\">\n",
       "  <thead>\n",
       "    <tr style=\"text-align: right;\">\n",
       "      <th></th>\n",
       "      <th>pixel0000</th>\n",
       "      <th>pixel0001</th>\n",
       "      <th>pixel0002</th>\n",
       "      <th>pixel0003</th>\n",
       "      <th>pixel0004</th>\n",
       "      <th>pixel0005</th>\n",
       "      <th>pixel0006</th>\n",
       "      <th>pixel0007</th>\n",
       "      <th>pixel0008</th>\n",
       "      <th>pixel0009</th>\n",
       "      <th>...</th>\n",
       "      <th>pixel2343</th>\n",
       "      <th>pixel2344</th>\n",
       "      <th>pixel2345</th>\n",
       "      <th>pixel2346</th>\n",
       "      <th>pixel2347</th>\n",
       "      <th>pixel2348</th>\n",
       "      <th>pixel2349</th>\n",
       "      <th>pixel2350</th>\n",
       "      <th>pixel2351</th>\n",
       "      <th>label</th>\n",
       "    </tr>\n",
       "  </thead>\n",
       "  <tbody>\n",
       "    <tr>\n",
       "      <th>0</th>\n",
       "      <td>192</td>\n",
       "      <td>153</td>\n",
       "      <td>193</td>\n",
       "      <td>195</td>\n",
       "      <td>155</td>\n",
       "      <td>192</td>\n",
       "      <td>197</td>\n",
       "      <td>154</td>\n",
       "      <td>185</td>\n",
       "      <td>202</td>\n",
       "      <td>...</td>\n",
       "      <td>173</td>\n",
       "      <td>124</td>\n",
       "      <td>138</td>\n",
       "      <td>183</td>\n",
       "      <td>147</td>\n",
       "      <td>166</td>\n",
       "      <td>185</td>\n",
       "      <td>154</td>\n",
       "      <td>177</td>\n",
       "      <td>2</td>\n",
       "    </tr>\n",
       "    <tr>\n",
       "      <th>1</th>\n",
       "      <td>25</td>\n",
       "      <td>14</td>\n",
       "      <td>30</td>\n",
       "      <td>68</td>\n",
       "      <td>48</td>\n",
       "      <td>75</td>\n",
       "      <td>123</td>\n",
       "      <td>93</td>\n",
       "      <td>126</td>\n",
       "      <td>158</td>\n",
       "      <td>...</td>\n",
       "      <td>60</td>\n",
       "      <td>39</td>\n",
       "      <td>55</td>\n",
       "      <td>25</td>\n",
       "      <td>14</td>\n",
       "      <td>28</td>\n",
       "      <td>25</td>\n",
       "      <td>14</td>\n",
       "      <td>27</td>\n",
       "      <td>2</td>\n",
       "    </tr>\n",
       "    <tr>\n",
       "      <th>2</th>\n",
       "      <td>192</td>\n",
       "      <td>138</td>\n",
       "      <td>153</td>\n",
       "      <td>200</td>\n",
       "      <td>145</td>\n",
       "      <td>163</td>\n",
       "      <td>201</td>\n",
       "      <td>142</td>\n",
       "      <td>160</td>\n",
       "      <td>206</td>\n",
       "      <td>...</td>\n",
       "      <td>167</td>\n",
       "      <td>129</td>\n",
       "      <td>143</td>\n",
       "      <td>159</td>\n",
       "      <td>124</td>\n",
       "      <td>142</td>\n",
       "      <td>136</td>\n",
       "      <td>104</td>\n",
       "      <td>117</td>\n",
       "      <td>2</td>\n",
       "    </tr>\n",
       "    <tr>\n",
       "      <th>3</th>\n",
       "      <td>38</td>\n",
       "      <td>19</td>\n",
       "      <td>30</td>\n",
       "      <td>95</td>\n",
       "      <td>59</td>\n",
       "      <td>72</td>\n",
       "      <td>143</td>\n",
       "      <td>103</td>\n",
       "      <td>119</td>\n",
       "      <td>171</td>\n",
       "      <td>...</td>\n",
       "      <td>44</td>\n",
       "      <td>26</td>\n",
       "      <td>36</td>\n",
       "      <td>25</td>\n",
       "      <td>12</td>\n",
       "      <td>17</td>\n",
       "      <td>25</td>\n",
       "      <td>12</td>\n",
       "      <td>15</td>\n",
       "      <td>2</td>\n",
       "    </tr>\n",
       "    <tr>\n",
       "      <th>4</th>\n",
       "      <td>158</td>\n",
       "      <td>113</td>\n",
       "      <td>139</td>\n",
       "      <td>194</td>\n",
       "      <td>144</td>\n",
       "      <td>174</td>\n",
       "      <td>215</td>\n",
       "      <td>162</td>\n",
       "      <td>191</td>\n",
       "      <td>225</td>\n",
       "      <td>...</td>\n",
       "      <td>209</td>\n",
       "      <td>166</td>\n",
       "      <td>185</td>\n",
       "      <td>172</td>\n",
       "      <td>135</td>\n",
       "      <td>149</td>\n",
       "      <td>109</td>\n",
       "      <td>78</td>\n",
       "      <td>92</td>\n",
       "      <td>2</td>\n",
       "    </tr>\n",
       "    <tr>\n",
       "      <th>...</th>\n",
       "      <td>...</td>\n",
       "      <td>...</td>\n",
       "      <td>...</td>\n",
       "      <td>...</td>\n",
       "      <td>...</td>\n",
       "      <td>...</td>\n",
       "      <td>...</td>\n",
       "      <td>...</td>\n",
       "      <td>...</td>\n",
       "      <td>...</td>\n",
       "      <td>...</td>\n",
       "      <td>...</td>\n",
       "      <td>...</td>\n",
       "      <td>...</td>\n",
       "      <td>...</td>\n",
       "      <td>...</td>\n",
       "      <td>...</td>\n",
       "      <td>...</td>\n",
       "      <td>...</td>\n",
       "      <td>...</td>\n",
       "      <td>...</td>\n",
       "    </tr>\n",
       "    <tr>\n",
       "      <th>10010</th>\n",
       "      <td>183</td>\n",
       "      <td>165</td>\n",
       "      <td>181</td>\n",
       "      <td>182</td>\n",
       "      <td>165</td>\n",
       "      <td>180</td>\n",
       "      <td>184</td>\n",
       "      <td>166</td>\n",
       "      <td>182</td>\n",
       "      <td>188</td>\n",
       "      <td>...</td>\n",
       "      <td>208</td>\n",
       "      <td>185</td>\n",
       "      <td>187</td>\n",
       "      <td>208</td>\n",
       "      <td>186</td>\n",
       "      <td>186</td>\n",
       "      <td>206</td>\n",
       "      <td>187</td>\n",
       "      <td>189</td>\n",
       "      <td>0</td>\n",
       "    </tr>\n",
       "    <tr>\n",
       "      <th>10011</th>\n",
       "      <td>2</td>\n",
       "      <td>3</td>\n",
       "      <td>1</td>\n",
       "      <td>38</td>\n",
       "      <td>33</td>\n",
       "      <td>32</td>\n",
       "      <td>121</td>\n",
       "      <td>104</td>\n",
       "      <td>103</td>\n",
       "      <td>132</td>\n",
       "      <td>...</td>\n",
       "      <td>96</td>\n",
       "      <td>79</td>\n",
       "      <td>76</td>\n",
       "      <td>24</td>\n",
       "      <td>23</td>\n",
       "      <td>21</td>\n",
       "      <td>3</td>\n",
       "      <td>4</td>\n",
       "      <td>1</td>\n",
       "      <td>0</td>\n",
       "    </tr>\n",
       "    <tr>\n",
       "      <th>10012</th>\n",
       "      <td>132</td>\n",
       "      <td>118</td>\n",
       "      <td>118</td>\n",
       "      <td>167</td>\n",
       "      <td>149</td>\n",
       "      <td>149</td>\n",
       "      <td>175</td>\n",
       "      <td>156</td>\n",
       "      <td>160</td>\n",
       "      <td>184</td>\n",
       "      <td>...</td>\n",
       "      <td>204</td>\n",
       "      <td>181</td>\n",
       "      <td>178</td>\n",
       "      <td>181</td>\n",
       "      <td>159</td>\n",
       "      <td>153</td>\n",
       "      <td>172</td>\n",
       "      <td>151</td>\n",
       "      <td>145</td>\n",
       "      <td>0</td>\n",
       "    </tr>\n",
       "    <tr>\n",
       "      <th>10013</th>\n",
       "      <td>160</td>\n",
       "      <td>124</td>\n",
       "      <td>146</td>\n",
       "      <td>164</td>\n",
       "      <td>131</td>\n",
       "      <td>152</td>\n",
       "      <td>167</td>\n",
       "      <td>127</td>\n",
       "      <td>146</td>\n",
       "      <td>169</td>\n",
       "      <td>...</td>\n",
       "      <td>185</td>\n",
       "      <td>162</td>\n",
       "      <td>167</td>\n",
       "      <td>184</td>\n",
       "      <td>157</td>\n",
       "      <td>166</td>\n",
       "      <td>185</td>\n",
       "      <td>162</td>\n",
       "      <td>172</td>\n",
       "      <td>0</td>\n",
       "    </tr>\n",
       "    <tr>\n",
       "      <th>10014</th>\n",
       "      <td>175</td>\n",
       "      <td>142</td>\n",
       "      <td>121</td>\n",
       "      <td>181</td>\n",
       "      <td>150</td>\n",
       "      <td>134</td>\n",
       "      <td>181</td>\n",
       "      <td>150</td>\n",
       "      <td>133</td>\n",
       "      <td>178</td>\n",
       "      <td>...</td>\n",
       "      <td>159</td>\n",
       "      <td>79</td>\n",
       "      <td>82</td>\n",
       "      <td>174</td>\n",
       "      <td>137</td>\n",
       "      <td>125</td>\n",
       "      <td>175</td>\n",
       "      <td>139</td>\n",
       "      <td>126</td>\n",
       "      <td>6</td>\n",
       "    </tr>\n",
       "  </tbody>\n",
       "</table>\n",
       "<p>10015 rows × 2353 columns</p>\n",
       "</div>"
      ],
      "text/plain": [
       "       pixel0000  pixel0001  pixel0002  pixel0003  pixel0004  pixel0005  \\\n",
       "0            192        153        193        195        155        192   \n",
       "1             25         14         30         68         48         75   \n",
       "2            192        138        153        200        145        163   \n",
       "3             38         19         30         95         59         72   \n",
       "4            158        113        139        194        144        174   \n",
       "...          ...        ...        ...        ...        ...        ...   \n",
       "10010        183        165        181        182        165        180   \n",
       "10011          2          3          1         38         33         32   \n",
       "10012        132        118        118        167        149        149   \n",
       "10013        160        124        146        164        131        152   \n",
       "10014        175        142        121        181        150        134   \n",
       "\n",
       "       pixel0006  pixel0007  pixel0008  pixel0009  ...  pixel2343  pixel2344  \\\n",
       "0            197        154        185        202  ...        173        124   \n",
       "1            123         93        126        158  ...         60         39   \n",
       "2            201        142        160        206  ...        167        129   \n",
       "3            143        103        119        171  ...         44         26   \n",
       "4            215        162        191        225  ...        209        166   \n",
       "...          ...        ...        ...        ...  ...        ...        ...   \n",
       "10010        184        166        182        188  ...        208        185   \n",
       "10011        121        104        103        132  ...         96         79   \n",
       "10012        175        156        160        184  ...        204        181   \n",
       "10013        167        127        146        169  ...        185        162   \n",
       "10014        181        150        133        178  ...        159         79   \n",
       "\n",
       "       pixel2345  pixel2346  pixel2347  pixel2348  pixel2349  pixel2350  \\\n",
       "0            138        183        147        166        185        154   \n",
       "1             55         25         14         28         25         14   \n",
       "2            143        159        124        142        136        104   \n",
       "3             36         25         12         17         25         12   \n",
       "4            185        172        135        149        109         78   \n",
       "...          ...        ...        ...        ...        ...        ...   \n",
       "10010        187        208        186        186        206        187   \n",
       "10011         76         24         23         21          3          4   \n",
       "10012        178        181        159        153        172        151   \n",
       "10013        167        184        157        166        185        162   \n",
       "10014         82        174        137        125        175        139   \n",
       "\n",
       "       pixel2351  label  \n",
       "0            177      2  \n",
       "1             27      2  \n",
       "2            117      2  \n",
       "3             15      2  \n",
       "4             92      2  \n",
       "...          ...    ...  \n",
       "10010        189      0  \n",
       "10011          1      0  \n",
       "10012        145      0  \n",
       "10013        172      0  \n",
       "10014        126      6  \n",
       "\n",
       "[10015 rows x 2353 columns]"
      ]
     },
     "execution_count": 7,
     "metadata": {},
     "output_type": "execute_result"
    }
   ],
   "source": [
    "df_28 = pd.read_csv('../../archive/hmnist_28_28_RGB.csv')\n",
    "df_28"
   ]
  },
  {
   "cell_type": "code",
   "execution_count": 8,
   "id": "0fda1a61",
   "metadata": {},
   "outputs": [
    {
     "data": {
      "image/png": "[encoded data removed]",
      "text/plain": [
       "<Figure size 600x400 with 1 Axes>"
      ]
     },
     "metadata": {
      "needs_background": "light"
     },
     "output_type": "display_data"
    }
   ],
   "source": [
    "plt.figure(dpi=100)\n",
    "sns.countplot(data=df_28, x='label')\n",
    "plt.show()"
   ]
  },
  {
   "cell_type": "code",
   "execution_count": 9,
   "id": "8a8532b0",
   "metadata": {},
   "outputs": [
    {
     "data": {
      "text/plain": [
       "4    6705\n",
       "6    1113\n",
       "2    1099\n",
       "1     514\n",
       "0     327\n",
       "5     142\n",
       "3     115\n",
       "Name: label, dtype: int64"
      ]
     },
     "execution_count": 9,
     "metadata": {},
     "output_type": "execute_result"
    }
   ],
   "source": [
    "df_28['label'].value_counts()"
   ]
  },
  {
   "cell_type": "markdown",
   "id": "fbfd4873",
   "metadata": {},
   "source": [
    "__number 4__ seems to be the most common type of skin cancer in the datasets."
   ]
  },
  {
   "cell_type": "markdown",
   "id": "b2228768",
   "metadata": {},
   "source": [
    "#### Metadata"
   ]
  },
  {
   "cell_type": "code",
   "execution_count": 10,
   "id": "44ba414b",
   "metadata": {},
   "outputs": [
    {
     "data": {
      "text/html": [
       "<div>\n",
       "<style scoped>\n",
       "    .dataframe tbody tr th:only-of-type {\n",
       "        vertical-align: middle;\n",
       "    }\n",
       "\n",
       "    .dataframe tbody tr th {\n",
       "        vertical-align: top;\n",
       "    }\n",
       "\n",
       "    .dataframe thead th {\n",
       "        text-align: right;\n",
       "    }\n",
       "</style>\n",
       "<table border=\"1\" class=\"dataframe\">\n",
       "  <thead>\n",
       "    <tr style=\"text-align: right;\">\n",
       "      <th></th>\n",
       "      <th>lesion_id</th>\n",
       "      <th>image_id</th>\n",
       "      <th>dx</th>\n",
       "      <th>dx_type</th>\n",
       "      <th>age</th>\n",
       "      <th>sex</th>\n",
       "      <th>localization</th>\n",
       "    </tr>\n",
       "  </thead>\n",
       "  <tbody>\n",
       "    <tr>\n",
       "      <th>0</th>\n",
       "      <td>HAM_0000118</td>\n",
       "      <td>ISIC_0027419</td>\n",
       "      <td>bkl</td>\n",
       "      <td>histo</td>\n",
       "      <td>80.0</td>\n",
       "      <td>male</td>\n",
       "      <td>scalp</td>\n",
       "    </tr>\n",
       "    <tr>\n",
       "      <th>1</th>\n",
       "      <td>HAM_0000118</td>\n",
       "      <td>ISIC_0025030</td>\n",
       "      <td>bkl</td>\n",
       "      <td>histo</td>\n",
       "      <td>80.0</td>\n",
       "      <td>male</td>\n",
       "      <td>scalp</td>\n",
       "    </tr>\n",
       "    <tr>\n",
       "      <th>2</th>\n",
       "      <td>HAM_0002730</td>\n",
       "      <td>ISIC_0026769</td>\n",
       "      <td>bkl</td>\n",
       "      <td>histo</td>\n",
       "      <td>80.0</td>\n",
       "      <td>male</td>\n",
       "      <td>scalp</td>\n",
       "    </tr>\n",
       "    <tr>\n",
       "      <th>3</th>\n",
       "      <td>HAM_0002730</td>\n",
       "      <td>ISIC_0025661</td>\n",
       "      <td>bkl</td>\n",
       "      <td>histo</td>\n",
       "      <td>80.0</td>\n",
       "      <td>male</td>\n",
       "      <td>scalp</td>\n",
       "    </tr>\n",
       "    <tr>\n",
       "      <th>4</th>\n",
       "      <td>HAM_0001466</td>\n",
       "      <td>ISIC_0031633</td>\n",
       "      <td>bkl</td>\n",
       "      <td>histo</td>\n",
       "      <td>75.0</td>\n",
       "      <td>male</td>\n",
       "      <td>ear</td>\n",
       "    </tr>\n",
       "    <tr>\n",
       "      <th>...</th>\n",
       "      <td>...</td>\n",
       "      <td>...</td>\n",
       "      <td>...</td>\n",
       "      <td>...</td>\n",
       "      <td>...</td>\n",
       "      <td>...</td>\n",
       "      <td>...</td>\n",
       "    </tr>\n",
       "    <tr>\n",
       "      <th>10010</th>\n",
       "      <td>HAM_0002867</td>\n",
       "      <td>ISIC_0033084</td>\n",
       "      <td>akiec</td>\n",
       "      <td>histo</td>\n",
       "      <td>40.0</td>\n",
       "      <td>male</td>\n",
       "      <td>abdomen</td>\n",
       "    </tr>\n",
       "    <tr>\n",
       "      <th>10011</th>\n",
       "      <td>HAM_0002867</td>\n",
       "      <td>ISIC_0033550</td>\n",
       "      <td>akiec</td>\n",
       "      <td>histo</td>\n",
       "      <td>40.0</td>\n",
       "      <td>male</td>\n",
       "      <td>abdomen</td>\n",
       "    </tr>\n",
       "    <tr>\n",
       "      <th>10012</th>\n",
       "      <td>HAM_0002867</td>\n",
       "      <td>ISIC_0033536</td>\n",
       "      <td>akiec</td>\n",
       "      <td>histo</td>\n",
       "      <td>40.0</td>\n",
       "      <td>male</td>\n",
       "      <td>abdomen</td>\n",
       "    </tr>\n",
       "    <tr>\n",
       "      <th>10013</th>\n",
       "      <td>HAM_0000239</td>\n",
       "      <td>ISIC_0032854</td>\n",
       "      <td>akiec</td>\n",
       "      <td>histo</td>\n",
       "      <td>80.0</td>\n",
       "      <td>male</td>\n",
       "      <td>face</td>\n",
       "    </tr>\n",
       "    <tr>\n",
       "      <th>10014</th>\n",
       "      <td>HAM_0003521</td>\n",
       "      <td>ISIC_0032258</td>\n",
       "      <td>mel</td>\n",
       "      <td>histo</td>\n",
       "      <td>70.0</td>\n",
       "      <td>female</td>\n",
       "      <td>back</td>\n",
       "    </tr>\n",
       "  </tbody>\n",
       "</table>\n",
       "<p>10015 rows × 7 columns</p>\n",
       "</div>"
      ],
      "text/plain": [
       "         lesion_id      image_id     dx dx_type   age     sex localization\n",
       "0      HAM_0000118  ISIC_0027419    bkl   histo  80.0    male        scalp\n",
       "1      HAM_0000118  ISIC_0025030    bkl   histo  80.0    male        scalp\n",
       "2      HAM_0002730  ISIC_0026769    bkl   histo  80.0    male        scalp\n",
       "3      HAM_0002730  ISIC_0025661    bkl   histo  80.0    male        scalp\n",
       "4      HAM_0001466  ISIC_0031633    bkl   histo  75.0    male          ear\n",
       "...            ...           ...    ...     ...   ...     ...          ...\n",
       "10010  HAM_0002867  ISIC_0033084  akiec   histo  40.0    male      abdomen\n",
       "10011  HAM_0002867  ISIC_0033550  akiec   histo  40.0    male      abdomen\n",
       "10012  HAM_0002867  ISIC_0033536  akiec   histo  40.0    male      abdomen\n",
       "10013  HAM_0000239  ISIC_0032854  akiec   histo  80.0    male         face\n",
       "10014  HAM_0003521  ISIC_0032258    mel   histo  70.0  female         back\n",
       "\n",
       "[10015 rows x 7 columns]"
      ]
     },
     "execution_count": 10,
     "metadata": {},
     "output_type": "execute_result"
    }
   ],
   "source": [
    "df = pd.read_csv('../../archive/HAM10000_metadata.csv')\n",
    "df"
   ]
  },
  {
   "cell_type": "markdown",
   "id": "2b2a5eae",
   "metadata": {},
   "source": [
    "##### dx"
   ]
  },
  {
   "cell_type": "code",
   "execution_count": 11,
   "id": "9b2ee6c6",
   "metadata": {},
   "outputs": [
    {
     "data": {
      "text/plain": [
       "nv       6705\n",
       "mel      1113\n",
       "bkl      1099\n",
       "bcc       514\n",
       "akiec     327\n",
       "vasc      142\n",
       "df        115\n",
       "Name: dx, dtype: int64"
      ]
     },
     "execution_count": 11,
     "metadata": {},
     "output_type": "execute_result"
    }
   ],
   "source": [
    "df['dx'].value_counts()"
   ]
  },
  {
   "cell_type": "markdown",
   "id": "5556dd07",
   "metadata": {},
   "source": [
    "Well, it's clear that __number 4__ was actually __melanocytic nevi (nv)__."
   ]
  },
  {
   "cell_type": "code",
   "execution_count": 12,
   "id": "a24e98b1",
   "metadata": {},
   "outputs": [
    {
     "data": {
      "text/html": [
       "<div>\n",
       "<style scoped>\n",
       "    .dataframe tbody tr th:only-of-type {\n",
       "        vertical-align: middle;\n",
       "    }\n",
       "\n",
       "    .dataframe tbody tr th {\n",
       "        vertical-align: top;\n",
       "    }\n",
       "\n",
       "    .dataframe thead th {\n",
       "        text-align: right;\n",
       "    }\n",
       "</style>\n",
       "<table border=\"1\" class=\"dataframe\">\n",
       "  <thead>\n",
       "    <tr style=\"text-align: right;\">\n",
       "      <th></th>\n",
       "      <th>disease_name</th>\n",
       "      <th>label</th>\n",
       "    </tr>\n",
       "  </thead>\n",
       "  <tbody>\n",
       "    <tr>\n",
       "      <th>4</th>\n",
       "      <td>akiec</td>\n",
       "      <td>0</td>\n",
       "    </tr>\n",
       "    <tr>\n",
       "      <th>3</th>\n",
       "      <td>bcc</td>\n",
       "      <td>1</td>\n",
       "    </tr>\n",
       "    <tr>\n",
       "      <th>2</th>\n",
       "      <td>bkl</td>\n",
       "      <td>2</td>\n",
       "    </tr>\n",
       "    <tr>\n",
       "      <th>6</th>\n",
       "      <td>df</td>\n",
       "      <td>3</td>\n",
       "    </tr>\n",
       "    <tr>\n",
       "      <th>0</th>\n",
       "      <td>nv</td>\n",
       "      <td>4</td>\n",
       "    </tr>\n",
       "    <tr>\n",
       "      <th>5</th>\n",
       "      <td>vasc</td>\n",
       "      <td>5</td>\n",
       "    </tr>\n",
       "    <tr>\n",
       "      <th>1</th>\n",
       "      <td>mel</td>\n",
       "      <td>6</td>\n",
       "    </tr>\n",
       "  </tbody>\n",
       "</table>\n",
       "</div>"
      ],
      "text/plain": [
       "  disease_name  label\n",
       "4        akiec      0\n",
       "3          bcc      1\n",
       "2          bkl      2\n",
       "6           df      3\n",
       "0           nv      4\n",
       "5         vasc      5\n",
       "1          mel      6"
      ]
     },
     "execution_count": 12,
     "metadata": {},
     "output_type": "execute_result"
    }
   ],
   "source": [
    "disease_labels = pd.DataFrame({\n",
    "    'disease_name': df['dx'].value_counts().index.to_list(),\n",
    "    'label': df_28['label'].value_counts().index.to_list()\n",
    "})\n",
    "disease_labels = disease_labels.sort_values(by='label')\n",
    "disease_labels"
   ]
  },
  {
   "cell_type": "markdown",
   "id": "aa20177b",
   "metadata": {},
   "source": [
    "##### Localization"
   ]
  },
  {
   "cell_type": "code",
   "execution_count": 13,
   "id": "0aa96d0b",
   "metadata": {},
   "outputs": [
    {
     "data": {
      "image/png": "[encoded data removed]",
      "text/plain": [
       "<Figure size 1000x600 with 1 Axes>"
      ]
     },
     "metadata": {
      "needs_background": "light"
     },
     "output_type": "display_data"
    }
   ],
   "source": [
    "plt.figure(dpi=100, figsize=(10, 6))\n",
    "sns.countplot(data=df, x='localization')\n",
    "plt.xticks(rotation=45)\n",
    "plt.show()"
   ]
  },
  {
   "cell_type": "code",
   "execution_count": 14,
   "id": "742ebb46",
   "metadata": {},
   "outputs": [
    {
     "data": {
      "text/plain": [
       "back               2192\n",
       "lower extremity    2077\n",
       "trunk              1404\n",
       "upper extremity    1118\n",
       "abdomen            1022\n",
       "face                745\n",
       "chest               407\n",
       "foot                319\n",
       "unknown             234\n",
       "neck                168\n",
       "scalp               128\n",
       "hand                 90\n",
       "ear                  56\n",
       "genital              48\n",
       "acral                 7\n",
       "Name: localization, dtype: int64"
      ]
     },
     "execution_count": 14,
     "metadata": {},
     "output_type": "execute_result"
    }
   ],
   "source": [
    "df['localization'].value_counts()"
   ]
  },
  {
   "cell_type": "markdown",
   "id": "cd787600",
   "metadata": {},
   "source": [
    "##### sex"
   ]
  },
  {
   "cell_type": "code",
   "execution_count": 15,
   "id": "6c67ad7f",
   "metadata": {},
   "outputs": [
    {
     "data": {
      "image/png": "[encoded data removed]",
      "text/plain": [
       "<Figure size 600x400 with 1 Axes>"
      ]
     },
     "metadata": {
      "needs_background": "light"
     },
     "output_type": "display_data"
    }
   ],
   "source": [
    "plt.figure(dpi=100)\n",
    "sns.countplot(data=df, x='sex')\n",
    "plt.xticks(rotation=45)\n",
    "plt.show()"
   ]
  },
  {
   "cell_type": "code",
   "execution_count": 16,
   "id": "4d5073f6",
   "metadata": {},
   "outputs": [
    {
     "data": {
      "text/plain": [
       "male       5406\n",
       "female     4552\n",
       "unknown      57\n",
       "Name: sex, dtype: int64"
      ]
     },
     "execution_count": 16,
     "metadata": {},
     "output_type": "execute_result"
    }
   ],
   "source": [
    "df['sex'].value_counts()"
   ]
  },
  {
   "cell_type": "markdown",
   "id": "6b657135",
   "metadata": {},
   "source": [
    "##### age"
   ]
  },
  {
   "cell_type": "code",
   "execution_count": 17,
   "id": "4573b1f1",
   "metadata": {},
   "outputs": [
    {
     "data": {
      "image/png": "[encoded data removed]",
      "text/plain": [
       "<Figure size 600x400 with 1 Axes>"
      ]
     },
     "metadata": {
      "needs_background": "light"
     },
     "output_type": "display_data"
    }
   ],
   "source": [
    "plt.figure(dpi=100)\n",
    "sns.countplot(data=df, x='age')\n",
    "plt.xticks(rotation=45)\n",
    "plt.show()"
   ]
  },
  {
   "cell_type": "code",
   "execution_count": 18,
   "id": "accb0041",
   "metadata": {},
   "outputs": [
    {
     "data": {
      "text/plain": [
       "45.0    1299\n",
       "50.0    1187\n",
       "55.0    1009\n",
       "40.0     985\n",
       "60.0     803\n",
       "70.0     756\n",
       "35.0     753\n",
       "65.0     731\n",
       "75.0     618\n",
       "30.0     464\n",
       "80.0     404\n",
       "85.0     290\n",
       "25.0     247\n",
       "20.0     169\n",
       "5.0       86\n",
       "15.0      77\n",
       "10.0      41\n",
       "0.0       39\n",
       "Name: age, dtype: int64"
      ]
     },
     "execution_count": 18,
     "metadata": {},
     "output_type": "execute_result"
    }
   ],
   "source": [
    "df['age'].value_counts()"
   ]
  },
  {
   "cell_type": "code",
   "execution_count": 19,
   "id": "57b7607a",
   "metadata": {},
   "outputs": [
    {
     "data": {
      "text/plain": [
       "-0.16680239035840475"
      ]
     },
     "execution_count": 19,
     "metadata": {},
     "output_type": "execute_result"
    }
   ],
   "source": [
    "df['age'].skew()"
   ]
  },
  {
   "cell_type": "markdown",
   "id": "27750d7a",
   "metadata": {},
   "source": [
    "##### dx_type"
   ]
  },
  {
   "cell_type": "code",
   "execution_count": 20,
   "id": "f2ba8749",
   "metadata": {},
   "outputs": [
    {
     "data": {
      "image/png": "[encoded data removed]",
      "text/plain": [
       "<Figure size 600x400 with 1 Axes>"
      ]
     },
     "metadata": {
      "needs_background": "light"
     },
     "output_type": "display_data"
    }
   ],
   "source": [
    "plt.figure(dpi=100)\n",
    "sns.countplot(data=df, x='dx_type')\n",
    "plt.xticks(rotation=45)\n",
    "plt.show()"
   ]
  },
  {
   "cell_type": "code",
   "execution_count": 21,
   "id": "be7e98fe",
   "metadata": {},
   "outputs": [
    {
     "data": {
      "text/plain": [
       "histo        5340\n",
       "follow_up    3704\n",
       "consensus     902\n",
       "confocal       69\n",
       "Name: dx_type, dtype: int64"
      ]
     },
     "execution_count": 21,
     "metadata": {},
     "output_type": "execute_result"
    }
   ],
   "source": [
    "df['dx_type'].value_counts()"
   ]
  },
  {
   "cell_type": "markdown",
   "id": "45213389",
   "metadata": {},
   "source": [
    "### Dataset 3: [SIIM ISIC Melanoma Classification](https://www.kaggle.com/c/siim-isic-melanoma-classification)"
   ]
  },
  {
   "cell_type": "code",
   "execution_count": 22,
   "id": "57fe461d",
   "metadata": {},
   "outputs": [],
   "source": [
    "data = '../../train.csv'\n",
    "isic = pd.read_csv(data)"
   ]
  },
  {
   "cell_type": "code",
   "execution_count": 23,
   "id": "4ef78dd2",
   "metadata": {},
   "outputs": [
    {
     "data": {
      "text/html": [
       "<div>\n",
       "<style scoped>\n",
       "    .dataframe tbody tr th:only-of-type {\n",
       "        vertical-align: middle;\n",
       "    }\n",
       "\n",
       "    .dataframe tbody tr th {\n",
       "        vertical-align: top;\n",
       "    }\n",
       "\n",
       "    .dataframe thead th {\n",
       "        text-align: right;\n",
       "    }\n",
       "</style>\n",
       "<table border=\"1\" class=\"dataframe\">\n",
       "  <thead>\n",
       "    <tr style=\"text-align: right;\">\n",
       "      <th></th>\n",
       "      <th>image_name</th>\n",
       "      <th>patient_id</th>\n",
       "      <th>sex</th>\n",
       "      <th>age_approx</th>\n",
       "      <th>anatom_site_general_challenge</th>\n",
       "      <th>diagnosis</th>\n",
       "      <th>benign_malignant</th>\n",
       "      <th>target</th>\n",
       "    </tr>\n",
       "  </thead>\n",
       "  <tbody>\n",
       "    <tr>\n",
       "      <th>0</th>\n",
       "      <td>ISIC_2637011</td>\n",
       "      <td>IP_7279968</td>\n",
       "      <td>male</td>\n",
       "      <td>45.0</td>\n",
       "      <td>head/neck</td>\n",
       "      <td>unknown</td>\n",
       "      <td>benign</td>\n",
       "      <td>0</td>\n",
       "    </tr>\n",
       "    <tr>\n",
       "      <th>1</th>\n",
       "      <td>ISIC_0015719</td>\n",
       "      <td>IP_3075186</td>\n",
       "      <td>female</td>\n",
       "      <td>45.0</td>\n",
       "      <td>upper extremity</td>\n",
       "      <td>unknown</td>\n",
       "      <td>benign</td>\n",
       "      <td>0</td>\n",
       "    </tr>\n",
       "    <tr>\n",
       "      <th>2</th>\n",
       "      <td>ISIC_0052212</td>\n",
       "      <td>IP_2842074</td>\n",
       "      <td>female</td>\n",
       "      <td>50.0</td>\n",
       "      <td>lower extremity</td>\n",
       "      <td>nevus</td>\n",
       "      <td>benign</td>\n",
       "      <td>0</td>\n",
       "    </tr>\n",
       "    <tr>\n",
       "      <th>3</th>\n",
       "      <td>ISIC_0068279</td>\n",
       "      <td>IP_6890425</td>\n",
       "      <td>female</td>\n",
       "      <td>45.0</td>\n",
       "      <td>head/neck</td>\n",
       "      <td>unknown</td>\n",
       "      <td>benign</td>\n",
       "      <td>0</td>\n",
       "    </tr>\n",
       "    <tr>\n",
       "      <th>4</th>\n",
       "      <td>ISIC_0074268</td>\n",
       "      <td>IP_8723313</td>\n",
       "      <td>female</td>\n",
       "      <td>55.0</td>\n",
       "      <td>upper extremity</td>\n",
       "      <td>unknown</td>\n",
       "      <td>benign</td>\n",
       "      <td>0</td>\n",
       "    </tr>\n",
       "    <tr>\n",
       "      <th>...</th>\n",
       "      <td>...</td>\n",
       "      <td>...</td>\n",
       "      <td>...</td>\n",
       "      <td>...</td>\n",
       "      <td>...</td>\n",
       "      <td>...</td>\n",
       "      <td>...</td>\n",
       "      <td>...</td>\n",
       "    </tr>\n",
       "    <tr>\n",
       "      <th>33121</th>\n",
       "      <td>ISIC_9999134</td>\n",
       "      <td>IP_6526534</td>\n",
       "      <td>male</td>\n",
       "      <td>50.0</td>\n",
       "      <td>torso</td>\n",
       "      <td>unknown</td>\n",
       "      <td>benign</td>\n",
       "      <td>0</td>\n",
       "    </tr>\n",
       "    <tr>\n",
       "      <th>33122</th>\n",
       "      <td>ISIC_9999320</td>\n",
       "      <td>IP_3650745</td>\n",
       "      <td>male</td>\n",
       "      <td>65.0</td>\n",
       "      <td>torso</td>\n",
       "      <td>unknown</td>\n",
       "      <td>benign</td>\n",
       "      <td>0</td>\n",
       "    </tr>\n",
       "    <tr>\n",
       "      <th>33123</th>\n",
       "      <td>ISIC_9999515</td>\n",
       "      <td>IP_2026598</td>\n",
       "      <td>male</td>\n",
       "      <td>20.0</td>\n",
       "      <td>lower extremity</td>\n",
       "      <td>unknown</td>\n",
       "      <td>benign</td>\n",
       "      <td>0</td>\n",
       "    </tr>\n",
       "    <tr>\n",
       "      <th>33124</th>\n",
       "      <td>ISIC_9999666</td>\n",
       "      <td>IP_7702038</td>\n",
       "      <td>male</td>\n",
       "      <td>50.0</td>\n",
       "      <td>lower extremity</td>\n",
       "      <td>unknown</td>\n",
       "      <td>benign</td>\n",
       "      <td>0</td>\n",
       "    </tr>\n",
       "    <tr>\n",
       "      <th>33125</th>\n",
       "      <td>ISIC_9999806</td>\n",
       "      <td>IP_0046310</td>\n",
       "      <td>male</td>\n",
       "      <td>45.0</td>\n",
       "      <td>torso</td>\n",
       "      <td>nevus</td>\n",
       "      <td>benign</td>\n",
       "      <td>0</td>\n",
       "    </tr>\n",
       "  </tbody>\n",
       "</table>\n",
       "<p>33126 rows × 8 columns</p>\n",
       "</div>"
      ],
      "text/plain": [
       "         image_name  patient_id     sex  age_approx  \\\n",
       "0      ISIC_2637011  IP_7279968    male        45.0   \n",
       "1      ISIC_0015719  IP_3075186  female        45.0   \n",
       "2      ISIC_0052212  IP_2842074  female        50.0   \n",
       "3      ISIC_0068279  IP_6890425  female        45.0   \n",
       "4      ISIC_0074268  IP_8723313  female        55.0   \n",
       "...             ...         ...     ...         ...   \n",
       "33121  ISIC_9999134  IP_6526534    male        50.0   \n",
       "33122  ISIC_9999320  IP_3650745    male        65.0   \n",
       "33123  ISIC_9999515  IP_2026598    male        20.0   \n",
       "33124  ISIC_9999666  IP_7702038    male        50.0   \n",
       "33125  ISIC_9999806  IP_0046310    male        45.0   \n",
       "\n",
       "      anatom_site_general_challenge diagnosis benign_malignant  target  \n",
       "0                         head/neck   unknown           benign       0  \n",
       "1                   upper extremity   unknown           benign       0  \n",
       "2                   lower extremity     nevus           benign       0  \n",
       "3                         head/neck   unknown           benign       0  \n",
       "4                   upper extremity   unknown           benign       0  \n",
       "...                             ...       ...              ...     ...  \n",
       "33121                         torso   unknown           benign       0  \n",
       "33122                         torso   unknown           benign       0  \n",
       "33123               lower extremity   unknown           benign       0  \n",
       "33124               lower extremity   unknown           benign       0  \n",
       "33125                         torso     nevus           benign       0  \n",
       "\n",
       "[33126 rows x 8 columns]"
      ]
     },
     "execution_count": 23,
     "metadata": {},
     "output_type": "execute_result"
    }
   ],
   "source": [
    "isic"
   ]
  },
  {
   "cell_type": "markdown",
   "id": "cd9be871",
   "metadata": {},
   "source": [
    "##### infection region"
   ]
  },
  {
   "cell_type": "code",
   "execution_count": 24,
   "id": "50f02651",
   "metadata": {},
   "outputs": [
    {
     "data": {
      "image/png": "[encoded data removed]",
      "text/plain": [
       "<Figure size 1000x600 with 1 Axes>"
      ]
     },
     "metadata": {
      "needs_background": "light"
     },
     "output_type": "display_data"
    }
   ],
   "source": [
    "plt.figure(dpi=100, figsize=(10, 6))\n",
    "sns.countplot(data=isic, x='anatom_site_general_challenge')\n",
    "plt.xticks(rotation=45)\n",
    "plt.show()"
   ]
  },
  {
   "cell_type": "markdown",
   "id": "473017dd",
   "metadata": {},
   "source": [
    "There seems to be similarities between the two datasets.  In the ISIC plot, we can see that __torso__ is most infected. Similarly, in HAM-10000 dataset, __abdomen, trunk, chest, and back__ contribute for the most locations."
   ]
  },
  {
   "cell_type": "markdown",
   "id": "ba6bcdf9",
   "metadata": {},
   "source": [
    "##### sex"
   ]
  },
  {
   "cell_type": "code",
   "execution_count": 25,
   "id": "cdba5963",
   "metadata": {},
   "outputs": [
    {
     "data": {
      "image/png": "[encoded data removed]",
      "text/plain": [
       "<Figure size 600x400 with 1 Axes>"
      ]
     },
     "metadata": {
      "needs_background": "light"
     },
     "output_type": "display_data"
    }
   ],
   "source": [
    "plt.figure(dpi=100)\n",
    "sns.countplot(data=isic, x='sex')\n",
    "plt.xticks(rotation=45)\n",
    "plt.show()"
   ]
  },
  {
   "cell_type": "code",
   "execution_count": 26,
   "id": "cbfec680",
   "metadata": {},
   "outputs": [
    {
     "data": {
      "text/plain": [
       "male      17080\n",
       "female    15981\n",
       "Name: sex, dtype: int64"
      ]
     },
     "execution_count": 26,
     "metadata": {},
     "output_type": "execute_result"
    }
   ],
   "source": [
    "isic['sex'].value_counts()"
   ]
  },
  {
   "cell_type": "markdown",
   "id": "46ca8393",
   "metadata": {},
   "source": [
    "##### age"
   ]
  },
  {
   "cell_type": "code",
   "execution_count": 27,
   "id": "af05e059",
   "metadata": {},
   "outputs": [
    {
     "data": {
      "image/png": "[encoded data removed]",
      "text/plain": [
       "<Figure size 600x400 with 1 Axes>"
      ]
     },
     "metadata": {
      "needs_background": "light"
     },
     "output_type": "display_data"
    }
   ],
   "source": [
    "plt.figure(dpi=100)\n",
    "sns.countplot(data=isic, x='age_approx')\n",
    "plt.xticks(rotation=45)\n",
    "plt.show()"
   ]
  },
  {
   "cell_type": "code",
   "execution_count": 28,
   "id": "74ac5da1",
   "metadata": {},
   "outputs": [
    {
     "data": {
      "text/plain": [
       "45.0    4466\n",
       "50.0    4270\n",
       "55.0    3824\n",
       "40.0    3576\n",
       "60.0    3240\n",
       "35.0    2850\n",
       "65.0    2527\n",
       "30.0    2358\n",
       "70.0    1968\n",
       "25.0    1544\n",
       "75.0     981\n",
       "20.0     655\n",
       "80.0     419\n",
       "85.0     149\n",
       "15.0     132\n",
       "90.0      80\n",
       "10.0      17\n",
       "0.0        2\n",
       "Name: age_approx, dtype: int64"
      ]
     },
     "execution_count": 28,
     "metadata": {},
     "output_type": "execute_result"
    }
   ],
   "source": [
    "isic['age_approx'].value_counts()"
   ]
  },
  {
   "cell_type": "code",
   "execution_count": 29,
   "id": "d7ac0294",
   "metadata": {},
   "outputs": [
    {
     "data": {
      "text/plain": [
       "0.08074471155768628"
      ]
     },
     "execution_count": 29,
     "metadata": {},
     "output_type": "execute_result"
    }
   ],
   "source": [
    "isic['age_approx'].skew()"
   ]
  },
  {
   "cell_type": "markdown",
   "id": "e446c65c",
   "metadata": {},
   "source": [
    "##### benign_malignant\t"
   ]
  },
  {
   "cell_type": "code",
   "execution_count": 30,
   "id": "f1413a23",
   "metadata": {},
   "outputs": [
    {
     "data": {
      "text/plain": [
       "benign       32542\n",
       "malignant      584\n",
       "Name: benign_malignant, dtype: int64"
      ]
     },
     "execution_count": 30,
     "metadata": {},
     "output_type": "execute_result"
    }
   ],
   "source": [
    "isic['benign_malignant'].value_counts()"
   ]
  },
  {
   "cell_type": "markdown",
   "id": "995d432b",
   "metadata": {},
   "source": [
    "##### diagnosis"
   ]
  },
  {
   "cell_type": "code",
   "execution_count": 31,
   "id": "c11358c6",
   "metadata": {},
   "outputs": [
    {
     "data": {
      "image/png": "[encoded data removed]",
      "text/plain": [
       "<Figure size 600x400 with 1 Axes>"
      ]
     },
     "metadata": {
      "needs_background": "light"
     },
     "output_type": "display_data"
    }
   ],
   "source": [
    "plt.figure(dpi=100)\n",
    "sns.countplot(data=isic, x='diagnosis')\n",
    "plt.xticks(rotation=45)\n",
    "plt.show()"
   ]
  },
  {
   "cell_type": "markdown",
   "id": "f65c69fa",
   "metadata": {},
   "source": [
    "They do not seem to have recorded the type of cancer."
   ]
  }
 ],
 "metadata": {
  "kernelspec": {
   "display_name": "Python 3.9 (Tensorflow)",
   "language": "python",
   "name": "tensorflow"
  },
  "language_info": {
   "codemirror_mode": {
    "name": "ipython",
    "version": 3
   },
   "file_extension": ".py",
   "mimetype": "text/x-python",
   "name": "python",
   "nbconvert_exporter": "python",
   "pygments_lexer": "ipython3",
   "version": "3.9.9"
  }
 },
 "nbformat": 4,
 "nbformat_minor": 5
}
